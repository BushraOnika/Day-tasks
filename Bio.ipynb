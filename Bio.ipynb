{
 "cells": [
  {
   "cell_type": "code",
   "execution_count": 61,
   "id": "initial_id",
   "metadata": {
    "collapsed": true,
    "ExecuteTime": {
     "end_time": "2024-12-23T07:54:55.546010Z",
     "start_time": "2024-12-23T07:54:55.474055900Z"
    }
   },
   "outputs": [
    {
     "data": {
      "text/plain": "'Bushra Hossain'"
     },
     "execution_count": 61,
     "metadata": {},
     "output_type": "execute_result"
    }
   ],
   "source": [
    "name=\"Bushra Hossain\"\n",
    "name"
   ]
  },
  {
   "cell_type": "code",
   "execution_count": 62,
   "outputs": [
    {
     "data": {
      "text/plain": "'Onika'"
     },
     "execution_count": 62,
     "metadata": {},
     "output_type": "execute_result"
    }
   ],
   "source": [
    "nickname= \"Onika\"\n",
    "nickname"
   ],
   "metadata": {
    "collapsed": false,
    "ExecuteTime": {
     "end_time": "2024-12-23T07:54:55.640470100Z",
     "start_time": "2024-12-23T07:54:55.488351500Z"
    }
   },
   "id": "5854e1fbe714ca8c"
  },
  {
   "cell_type": "code",
   "execution_count": 63,
   "outputs": [
    {
     "data": {
      "text/plain": "'6th May 2000'"
     },
     "execution_count": 63,
     "metadata": {},
     "output_type": "execute_result"
    }
   ],
   "source": [
    "date_of_birth=\"6th May 2000\"\n",
    "date_of_birth"
   ],
   "metadata": {
    "collapsed": false,
    "ExecuteTime": {
     "end_time": "2024-12-23T07:54:55.641522300Z",
     "start_time": "2024-12-23T07:54:55.503316200Z"
    }
   },
   "id": "1ab9b3a11201a8c9"
  },
  {
   "cell_type": "code",
   "execution_count": 64,
   "outputs": [
    {
     "data": {
      "text/plain": "'female'"
     },
     "execution_count": 64,
     "metadata": {},
     "output_type": "execute_result"
    }
   ],
   "source": [
    "gender = \"female\"\n",
    "gender"
   ],
   "metadata": {
    "collapsed": false,
    "ExecuteTime": {
     "end_time": "2024-12-23T07:54:55.642607600Z",
     "start_time": "2024-12-23T07:54:55.518263200Z"
    }
   },
   "id": "be77ff150ceaee99"
  },
  {
   "cell_type": "code",
   "execution_count": 65,
   "outputs": [
    {
     "data": {
      "text/plain": "'Bangladesh'"
     },
     "execution_count": 65,
     "metadata": {},
     "output_type": "execute_result"
    }
   ],
   "source": [
    "nationality=\"Bangladesh\"\n",
    "nationality"
   ],
   "metadata": {
    "collapsed": false,
    "ExecuteTime": {
     "end_time": "2024-12-23T07:54:55.644817400Z",
     "start_time": "2024-12-23T07:54:55.535227700Z"
    }
   },
   "id": "7b1951d28f1c0993"
  },
  {
   "cell_type": "code",
   "execution_count": 66,
   "outputs": [
    {
     "data": {
      "text/plain": "'Dhaka'"
     },
     "execution_count": 66,
     "metadata": {},
     "output_type": "execute_result"
    }
   ],
   "source": [
    "birth_place= \"Dhaka\"\n",
    "birth_place"
   ],
   "metadata": {
    "collapsed": false,
    "ExecuteTime": {
     "end_time": "2024-12-23T07:54:55.656032300Z",
     "start_time": "2024-12-23T07:54:55.551605800Z"
    }
   },
   "id": "fa5b360d38c9a6b5"
  },
  {
   "cell_type": "code",
   "execution_count": 67,
   "outputs": [
    {
     "data": {
      "text/plain": "62"
     },
     "execution_count": 67,
     "metadata": {},
     "output_type": "execute_result"
    }
   ],
   "source": [
    "weight= 62\n",
    "weight"
   ],
   "metadata": {
    "collapsed": false,
    "ExecuteTime": {
     "end_time": "2024-12-23T07:54:55.657205100Z",
     "start_time": "2024-12-23T07:54:55.566542Z"
    }
   },
   "id": "3b08ba15d53bcfd4"
  },
  {
   "cell_type": "code",
   "execution_count": 68,
   "outputs": [
    {
     "data": {
      "text/plain": "5.4"
     },
     "execution_count": 68,
     "metadata": {},
     "output_type": "execute_result"
    }
   ],
   "source": [
    "height=5.4\n",
    "height"
   ],
   "metadata": {
    "collapsed": false,
    "ExecuteTime": {
     "end_time": "2024-12-23T07:54:55.658281900Z",
     "start_time": "2024-12-23T07:54:55.583184300Z"
    }
   },
   "id": "f7978957fb268c38"
  },
  {
   "cell_type": "code",
   "execution_count": 69,
   "outputs": [
    {
     "data": {
      "text/plain": "'Road 10 , Adabor,Mohammadpur'"
     },
     "execution_count": 69,
     "metadata": {},
     "output_type": "execute_result"
    }
   ],
   "source": [
    "present_address= \"Road 10 , Adabor,Mohammadpur\"\n",
    "present_address"
   ],
   "metadata": {
    "collapsed": false,
    "ExecuteTime": {
     "end_time": "2024-12-23T07:54:55.659284500Z",
     "start_time": "2024-12-23T07:54:55.598381500Z"
    }
   },
   "id": "fe813709bbcf2e"
  },
  {
   "cell_type": "code",
   "execution_count": 70,
   "outputs": [
    {
     "data": {
      "text/plain": "'Road 10 , Adabor,Mohammadpur'"
     },
     "execution_count": 70,
     "metadata": {},
     "output_type": "execute_result"
    }
   ],
   "source": [
    "permanent_add= present_address\n",
    "permanent_add"
   ],
   "metadata": {
    "collapsed": false,
    "ExecuteTime": {
     "end_time": "2024-12-23T07:54:55.659284500Z",
     "start_time": "2024-12-23T07:54:55.616204Z"
    }
   },
   "id": "b5a7c35e0b816621"
  },
  {
   "cell_type": "code",
   "execution_count": 71,
   "outputs": [
    {
     "data": {
      "text/plain": "1207"
     },
     "execution_count": 71,
     "metadata": {},
     "output_type": "execute_result"
    }
   ],
   "source": [
    "post_code= 1207\n",
    "post_code"
   ],
   "metadata": {
    "collapsed": false,
    "ExecuteTime": {
     "end_time": "2024-12-23T07:54:55.687190400Z",
     "start_time": "2024-12-23T07:54:55.631164200Z"
    }
   },
   "id": "ec4520fbff70901d"
  },
  {
   "cell_type": "code",
   "execution_count": 72,
   "outputs": [
    {
     "data": {
      "text/plain": "'Graduated Student'"
     },
     "execution_count": 72,
     "metadata": {},
     "output_type": "execute_result"
    }
   ],
   "source": [
    "occupation= \"Graduated Student\"\n",
    "occupation"
   ],
   "metadata": {
    "collapsed": false,
    "ExecuteTime": {
     "end_time": "2024-12-23T07:54:55.699223700Z",
     "start_time": "2024-12-23T07:54:55.647251Z"
    }
   },
   "id": "9c29aac5107946c6"
  },
  {
   "cell_type": "code",
   "execution_count": 73,
   "outputs": [
    {
     "data": {
      "text/plain": "'North South University'"
     },
     "execution_count": 73,
     "metadata": {},
     "output_type": "execute_result"
    }
   ],
   "source": [
    "university=\"North South University\"\n",
    "university"
   ],
   "metadata": {
    "collapsed": false,
    "ExecuteTime": {
     "end_time": "2024-12-23T07:54:55.876197300Z",
     "start_time": "2024-12-23T07:54:55.660285700Z"
    }
   },
   "id": "4423f9eabd886a8a"
  },
  {
   "cell_type": "code",
   "execution_count": 74,
   "outputs": [
    {
     "data": {
      "text/plain": "'CSE'"
     },
     "execution_count": 74,
     "metadata": {},
     "output_type": "execute_result"
    }
   ],
   "source": [
    "subject = \"CSE\"\n",
    "subject"
   ],
   "metadata": {
    "collapsed": false,
    "ExecuteTime": {
     "end_time": "2024-12-23T07:54:55.892570700Z",
     "start_time": "2024-12-23T07:54:55.678839400Z"
    }
   },
   "id": "977ad133b3a7de8d"
  },
  {
   "cell_type": "code",
   "execution_count": 75,
   "outputs": [
    {
     "data": {
      "text/plain": "['pasta', 'ice cream', 'Fucka', 'soft drinks', 'Kacchi']"
     },
     "execution_count": 75,
     "metadata": {},
     "output_type": "execute_result"
    }
   ],
   "source": [
    "likes_to_eat = [\"pasta\",\"ice cream\",\"Fucka\",\"soft drinks\",\"Kacchi\"]\n",
    "likes_to_eat"
   ],
   "metadata": {
    "collapsed": false,
    "ExecuteTime": {
     "end_time": "2024-12-23T07:54:55.895618300Z",
     "start_time": "2024-12-23T07:54:55.695712900Z"
    }
   },
   "id": "3b217918fc03ae89"
  },
  {
   "cell_type": "code",
   "execution_count": 76,
   "outputs": [
    {
     "data": {
      "text/plain": "'sleeping'"
     },
     "execution_count": 76,
     "metadata": {},
     "output_type": "execute_result"
    }
   ],
   "source": [
    "likes_to_do = \"sleeping\"\n",
    "likes_to_do"
   ],
   "metadata": {
    "collapsed": false,
    "ExecuteTime": {
     "end_time": "2024-12-23T07:54:55.918359300Z",
     "start_time": "2024-12-23T07:54:55.708184300Z"
    }
   },
   "id": "c4afdd7557be7410"
  },
  {
   "cell_type": "code",
   "execution_count": 77,
   "outputs": [
    {
     "data": {
      "text/plain": "'sleeping'"
     },
     "execution_count": 77,
     "metadata": {},
     "output_type": "execute_result"
    }
   ],
   "source": [
    "hobby = \"sleeping\"\n",
    "hobby"
   ],
   "metadata": {
    "collapsed": false,
    "ExecuteTime": {
     "end_time": "2024-12-23T07:54:55.921406100Z",
     "start_time": "2024-12-23T07:54:55.724802800Z"
    }
   },
   "id": "7a75d1afc055994f"
  },
  {
   "cell_type": "code",
   "execution_count": 78,
   "outputs": [
    {
     "data": {
      "text/plain": "['ms word', 'excel', 'panda', 'numpy', 'machine learning']"
     },
     "execution_count": 78,
     "metadata": {},
     "output_type": "execute_result"
    }
   ],
   "source": [
    "skills = [\"ms word\",\"excel\",\"panda\",\"numpy\",\"machine learning\"]\n",
    "skills"
   ],
   "metadata": {
    "collapsed": false,
    "ExecuteTime": {
     "end_time": "2024-12-23T07:54:55.922781900Z",
     "start_time": "2024-12-23T07:54:55.741326800Z"
    }
   },
   "id": "52f5e249f8bcf872"
  },
  {
   "cell_type": "code",
   "execution_count": 79,
   "outputs": [
    {
     "data": {
      "text/plain": "['Bangla', 'English']"
     },
     "execution_count": 79,
     "metadata": {},
     "output_type": "execute_result"
    }
   ],
   "source": [
    "languages= [\"Bangla\",\"English\"]\n",
    "languages"
   ],
   "metadata": {
    "collapsed": false,
    "ExecuteTime": {
     "end_time": "2024-12-23T07:54:55.924804800Z",
     "start_time": "2024-12-23T07:54:55.755745400Z"
    }
   },
   "id": "29c90faee4c57fd7"
  },
  {
   "cell_type": "code",
   "execution_count": 80,
   "outputs": [
    {
     "data": {
      "text/plain": "'Settle in Abroad'"
     },
     "execution_count": 80,
     "metadata": {},
     "output_type": "execute_result"
    }
   ],
   "source": [
    "goal = \"Settle in Abroad\" \n",
    "goal"
   ],
   "metadata": {
    "collapsed": false,
    "ExecuteTime": {
     "end_time": "2024-12-23T07:54:55.926902300Z",
     "start_time": "2024-12-23T07:54:55.773496800Z"
    }
   },
   "id": "827ff54ea4cce160"
  }
 ],
 "metadata": {
  "kernelspec": {
   "display_name": "Python 3",
   "language": "python",
   "name": "python3"
  },
  "language_info": {
   "codemirror_mode": {
    "name": "ipython",
    "version": 2
   },
   "file_extension": ".py",
   "mimetype": "text/x-python",
   "name": "python",
   "nbconvert_exporter": "python",
   "pygments_lexer": "ipython2",
   "version": "2.7.6"
  }
 },
 "nbformat": 4,
 "nbformat_minor": 5
}
