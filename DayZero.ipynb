{
 "cells": [
  {
   "cell_type": "code",
   "execution_count": 8,
   "id": "initial_id",
   "metadata": {
    "collapsed": true,
    "ExecuteTime": {
     "end_time": "2024-12-21T13:37:16.315664200Z",
     "start_time": "2024-12-21T13:37:16.301564700Z"
    }
   },
   "outputs": [],
   "source": [
    "# shop\n",
    "ice_cream_types = [\"cone\", \"loly\"]\n",
    "toppings = [\"chocolate\", \"strawberry\", \"vanilla\"]"
   ]
  },
  {
   "cell_type": "code",
   "execution_count": 9,
   "outputs": [],
   "source": [
    "customer_ice_cream_types = input(\"What type of ice cream do you want? \") # cone\n",
    "toppings_count = int (input(\"How many topping you want to be added?\"))\n",
    "\n",
    "for i in range(toppings_count):\n",
    " customer_toppings = input(\"What toppings do you want? \") # banana\n",
    "\n",
    "#if (customer_ice_cream_type is '')\n",
    "# print(f\"Here is your {customer_ice_cream_types} ice cream with {customer_toppings} toppings.\")\n",
    "#or\n",
    "#print(\"We dont have that topping\")"
   ],
   "metadata": {
    "collapsed": false,
    "ExecuteTime": {
     "end_time": "2024-12-21T13:37:43.055213200Z",
     "start_time": "2024-12-21T13:37:16.319684700Z"
    }
   },
   "id": "5eb61a61f13637ca"
  },
  {
   "cell_type": "code",
   "execution_count": 10,
   "outputs": [
    {
     "name": "stdout",
     "output_type": "stream",
     "text": [
      "Here goes your ice cream and thank youuu\n",
      "Here goes your ice cream and thank youuu\n"
     ]
    }
   ],
   "source": [
    "for i in range (toppings_count):\n",
    "    if(customer_ice_cream_types in ice_cream_types and customer_toppings in toppings):\n",
    "        print(\"Here goes your ice cream and thank youuu\")\n",
    "    elif(customer_ice_cream_types not in ice_cream_types and customer_toppings in toppings):\n",
    "        print(\"We have have this ice cream sorry\")\n",
    "    elif(customer_ice_cream_types in ice_cream_types and customer_toppings not in toppings):\n",
    "        print(\"Sorry we don't have this flavour\")\n",
    "    else:\n",
    "        print(\"We don't have this\")\n",
    "        "
   ],
   "metadata": {
    "collapsed": false,
    "ExecuteTime": {
     "end_time": "2024-12-21T13:37:43.084027100Z",
     "start_time": "2024-12-21T13:37:43.052918300Z"
    }
   },
   "id": "b9f630319c9eb58a"
  },
  {
   "cell_type": "code",
   "execution_count": 11,
   "outputs": [
    {
     "name": "stdout",
     "output_type": "stream",
     "text": [
      "cone\n",
      "loly\n"
     ]
    }
   ],
   "source": [
    "for ice_cream_type in ice_cream_types:\n",
    "    print(ice_cream_type)\n",
    "    \n",
    "    "
   ],
   "metadata": {
    "collapsed": false,
    "ExecuteTime": {
     "end_time": "2024-12-21T13:37:43.084027100Z",
     "start_time": "2024-12-21T13:37:43.065542400Z"
    }
   },
   "id": "4d10d0956b1dc3eb"
  },
  {
   "cell_type": "markdown",
   "source": [],
   "metadata": {
    "collapsed": false
   },
   "id": "1832b8fb5b1b77ba"
  },
  {
   "cell_type": "code",
   "execution_count": 11,
   "outputs": [],
   "source": [],
   "metadata": {
    "collapsed": false,
    "ExecuteTime": {
     "end_time": "2024-12-21T13:37:43.168691400Z",
     "start_time": "2024-12-21T13:37:43.082020300Z"
    }
   },
   "id": "32b2fbf24d198b6d"
  }
 ],
 "metadata": {
  "kernelspec": {
   "display_name": "Python 3",
   "language": "python",
   "name": "python3"
  },
  "language_info": {
   "codemirror_mode": {
    "name": "ipython",
    "version": 2
   },
   "file_extension": ".py",
   "mimetype": "text/x-python",
   "name": "python",
   "nbconvert_exporter": "python",
   "pygments_lexer": "ipython2",
   "version": "2.7.6"
  }
 },
 "nbformat": 4,
 "nbformat_minor": 5
}
