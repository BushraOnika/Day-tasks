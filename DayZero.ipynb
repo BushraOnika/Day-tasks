{
 "cells": [
  {
   "cell_type": "code",
   "execution_count": 1,
   "id": "initial_id",
   "metadata": {
    "collapsed": true,
    "ExecuteTime": {
     "end_time": "2024-12-21T09:23:04.595442700Z",
     "start_time": "2024-12-21T09:23:04.566462900Z"
    }
   },
   "outputs": [],
   "source": [
    "# shop\n",
    "ice_cream_types = [\"cone\", \"loly\"]\n",
    "toppings = [\"chocolate\", \"strawberry\", \"vanilla\"]"
   ]
  },
  {
   "cell_type": "code",
   "execution_count": 2,
   "outputs": [],
   "source": [
    "customer_ice_cream_types = input(\"What type of ice cream do you want? \") # cone\n",
    "toppings_count = int (input(\"How many topping you want to be added?\"))\n",
    "\n",
    "for i in range(toppings_count):\n",
    " customer_toppings = input(\"What toppings do you want? \") # banana\n",
    "\n",
    "#if (customer_ice_cream_type is '')\n",
    "# print(f\"Here is your {customer_ice_cream_types} ice cream with {customer_toppings} toppings.\")\n",
    "#or\n",
    "#print(\"We dont have that topping\")"
   ],
   "metadata": {
    "collapsed": false,
    "ExecuteTime": {
     "end_time": "2024-12-21T09:23:32.043631300Z",
     "start_time": "2024-12-21T09:23:04.582535800Z"
    }
   },
   "id": "5eb61a61f13637ca"
  },
  {
   "cell_type": "code",
   "execution_count": 3,
   "outputs": [
    {
     "name": "stdout",
     "output_type": "stream",
     "text": [
      "cone\n",
      "loly\n"
     ]
    }
   ],
   "source": [
    "for ice_cream_type in ice_cream_types:\n",
    "    print(ice_cream_type)\n",
    "    \n",
    "    "
   ],
   "metadata": {
    "collapsed": false,
    "ExecuteTime": {
     "end_time": "2024-12-21T09:23:32.153591600Z",
     "start_time": "2024-12-21T09:23:32.039260Z"
    }
   },
   "id": "4d10d0956b1dc3eb"
  },
  {
   "cell_type": "markdown",
   "source": [],
   "metadata": {
    "collapsed": false
   },
   "id": "1832b8fb5b1b77ba"
  },
  {
   "cell_type": "code",
   "execution_count": 3,
   "outputs": [],
   "source": [],
   "metadata": {
    "collapsed": false,
    "ExecuteTime": {
     "end_time": "2024-12-21T09:23:32.173016700Z",
     "start_time": "2024-12-21T09:23:32.078739Z"
    }
   },
   "id": "32b2fbf24d198b6d"
  }
 ],
 "metadata": {
  "kernelspec": {
   "display_name": "Python 3",
   "language": "python",
   "name": "python3"
  },
  "language_info": {
   "codemirror_mode": {
    "name": "ipython",
    "version": 2
   },
   "file_extension": ".py",
   "mimetype": "text/x-python",
   "name": "python",
   "nbconvert_exporter": "python",
   "pygments_lexer": "ipython2",
   "version": "2.7.6"
  }
 },
 "nbformat": 4,
 "nbformat_minor": 5
}
