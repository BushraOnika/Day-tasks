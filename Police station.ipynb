{
 "cells": [
  {
   "cell_type": "markdown",
   "source": [
    "# Police Station\n"
   ],
   "metadata": {
    "collapsed": false
   },
   "id": "b3e13ccc1ed9e4ac"
  },
  {
   "cell_type": "code",
   "execution_count": 43,
   "outputs": [
    {
     "name": "stdout",
     "output_type": "stream",
     "text": [
      "Acp Pradyuman\n",
      "Acp Pradyuman\n",
      "Daya\n",
      "Abhijeet\n",
      "Bush\n",
      "Habildar\n",
      "Abul\n"
     ]
    }
   ],
   "source": [
    "polices = [\"Acp Pradyuman\" ,\"Daya\", \"Abhijeet\",\"Bush\",\"Habildar\",\"Abul\"]\n",
    "print(polices[0])\n",
    "for police in polices:\n",
    "    print(police)"
   ],
   "metadata": {
    "collapsed": false,
    "ExecuteTime": {
     "end_time": "2024-12-23T05:23:44.510736700Z",
     "start_time": "2024-12-23T05:23:44.474976300Z"
    }
   },
   "id": "initial_id"
  },
  {
   "cell_type": "code",
   "execution_count": 44,
   "outputs": [
    {
     "name": "stdout",
     "output_type": "stream",
     "text": [
      "Acp Pradyuman\n",
      "Abhijeet\n",
      "Habildar\n"
     ]
    }
   ],
   "source": [
    "for police in polices[::2]:  #0,2,4\n",
    "    print(police)"
   ],
   "metadata": {
    "collapsed": false,
    "ExecuteTime": {
     "end_time": "2024-12-23T05:24:46.597919600Z",
     "start_time": "2024-12-23T05:24:46.576348800Z"
    }
   },
   "id": "e20fccfaf60e2793"
  },
  {
   "cell_type": "code",
   "execution_count": 38,
   "outputs": [
    {
     "name": "stdout",
     "output_type": "stream",
     "text": [
      "Acp Pradyuman\n",
      "Daya\n",
      "Abhijeet\n",
      "Bush\n"
     ]
    }
   ],
   "source": [
    "for police in polices[:4]:\n",
    "    print(police)"
   ],
   "metadata": {
    "collapsed": false,
    "ExecuteTime": {
     "start_time": "2024-12-23T05:14:29.331956200Z"
    }
   },
   "id": "ec7faebab1af923f"
  },
  {
   "cell_type": "code",
   "execution_count": 40,
   "outputs": [
    {
     "name": "stdout",
     "output_type": "stream",
     "text": [
      "Acp Pradyuman\n",
      "Daya\n",
      "Abhijeet\n",
      "Bush\n"
     ]
    }
   ],
   "source": [
    "for police in polices[:-2]:\n",
    "    print(police)"
   ],
   "metadata": {
    "collapsed": false,
    "ExecuteTime": {
     "start_time": "2024-12-23T05:17:21.574139500Z"
    }
   },
   "id": "fb39a1f18fe2b656"
  },
  {
   "cell_type": "code",
   "execution_count": 42,
   "outputs": [
    {
     "name": "stdout",
     "output_type": "stream",
     "text": [
      "Daya\n",
      "Bush\n",
      "Abul\n"
     ]
    }
   ],
   "source": [
    "for police in polices[1::2]:\n",
    "    print(police)"
   ],
   "metadata": {
    "collapsed": false,
    "ExecuteTime": {
     "start_time": "2024-12-23T05:18:21.595193800Z"
    }
   },
   "id": "f8f6adfa201be30b"
  },
  {
   "cell_type": "markdown",
   "source": [
    "Assignment boro python file bio related "
   ],
   "metadata": {
    "collapsed": false
   },
   "id": "1641ce6dca66a8c5"
  }
 ],
 "metadata": {
  "kernelspec": {
   "display_name": "Python 3",
   "language": "python",
   "name": "python3"
  },
  "language_info": {
   "codemirror_mode": {
    "name": "ipython",
    "version": 2
   },
   "file_extension": ".py",
   "mimetype": "text/x-python",
   "name": "python",
   "nbconvert_exporter": "python",
   "pygments_lexer": "ipython2",
   "version": "2.7.6"
  }
 },
 "nbformat": 4,
 "nbformat_minor": 5
}
